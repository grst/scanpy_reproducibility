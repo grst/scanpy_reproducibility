{
 "cells": [
  {
   "cell_type": "code",
   "execution_count": 1,
   "id": "4c7b280a-564a-4fff-860d-7590aa3f7d4e",
   "metadata": {},
   "outputs": [],
   "source": [
    "import scanpy as sc\n",
    "import pandas as pd\n",
    "import numpy as np\n",
    "from pathlib import Path\n",
    "import numpy.testing as npt"
   ]
  },
  {
   "cell_type": "code",
   "execution_count": 2,
   "id": "4a35fd7b-c465-4ea9-856d-dd5460eb6545",
   "metadata": {},
   "outputs": [],
   "source": [
    "scvi_adatas = list(Path(\"../results/neighbors/\").glob(\"*.h5ad\"))"
   ]
  },
  {
   "cell_type": "code",
   "execution_count": 5,
   "id": "eb9395a6-e1bb-4e33-be1d-55ee7cca4df5",
   "metadata": {},
   "outputs": [
    {
     "data": {
      "text/plain": [
       "[PosixPath('../results/neighbors/Guo_Zhang_2018_NSCLC.qc_apollo-new_4cpus.neighbors.h5ad'),\n",
       " PosixPath('../results/neighbors/Maynard_Bivona_2020_NSCLC.qc_zeus_8cpus.neighbors.h5ad'),\n",
       " PosixPath('../results/neighbors/Lambrechts_2018_LUAD_6653.qc_apollo-old_8cpus.neighbors.h5ad'),\n",
       " PosixPath('../results/neighbors/Lambrechts_2018_LUAD_6653.qc_apollo-new_8cpus.neighbors.h5ad'),\n",
       " PosixPath('../results/neighbors/Zilionis_Klein_2019_NSCLC.qc_apollo-old_8cpus.neighbors.h5ad'),\n",
       " PosixPath('../results/neighbors/Lambrechts_2018_LUAD_6653.qc_apollo-old_4cpus.neighbors.h5ad'),\n",
       " PosixPath('../results/neighbors/Zilionis_Klein_2019_NSCLC.qc_zeus_8cpus.neighbors.h5ad'),\n",
       " PosixPath('../results/neighbors/Maynard_Bivona_2020_NSCLC.qc_apollo-new_8cpus.neighbors.h5ad'),\n",
       " PosixPath('../results/neighbors/Lambrechts_2018_LUAD_6653.qc_apollo-new_4cpus.neighbors.h5ad'),\n",
       " PosixPath('../results/neighbors/Guo_Zhang_2018_NSCLC.qc_apollo-old_8cpus.neighbors.h5ad'),\n",
       " PosixPath('../results/neighbors/Maynard_Bivona_2020_NSCLC.qc_apollo-new_4cpus.neighbors.h5ad'),\n",
       " PosixPath('../results/neighbors/Lambrechts_2018_LUAD_6653.qc_zeus_8cpus.neighbors.h5ad'),\n",
       " PosixPath('../results/neighbors/Guo_Zhang_2018_NSCLC.qc_zeus_8cpus.neighbors.h5ad'),\n",
       " PosixPath('../results/neighbors/Guo_Zhang_2018_NSCLC.qc_apollo-old_4cpus.neighbors.h5ad'),\n",
       " PosixPath('../results/neighbors/Lambrechts_2018_LUAD_6653.qc_zeus_4cpus.neighbors.h5ad'),\n",
       " PosixPath('../results/neighbors/Guo_Zhang_2018_NSCLC.qc_apollo-new_8cpus.neighbors.h5ad'),\n",
       " PosixPath('../results/neighbors/Zilionis_Klein_2019_NSCLC.qc_apollo-new_4cpus.neighbors.h5ad'),\n",
       " PosixPath('../results/neighbors/Zilionis_Klein_2019_NSCLC.qc_zeus_4cpus.neighbors.h5ad'),\n",
       " PosixPath('../results/neighbors/Maynard_Bivona_2020_NSCLC.qc_apollo-old_8cpus.neighbors.h5ad'),\n",
       " PosixPath('../results/neighbors/Maynard_Bivona_2020_NSCLC.qc_zeus_4cpus.neighbors.h5ad'),\n",
       " PosixPath('../results/neighbors/Guo_Zhang_2018_NSCLC.qc_zeus_4cpus.neighbors.h5ad'),\n",
       " PosixPath('../results/neighbors/Zilionis_Klein_2019_NSCLC.qc_apollo-old_4cpus.neighbors.h5ad'),\n",
       " PosixPath('../results/neighbors/Zilionis_Klein_2019_NSCLC.qc_apollo-new_8cpus.neighbors.h5ad'),\n",
       " PosixPath('../results/neighbors/Maynard_Bivona_2020_NSCLC.qc_apollo-old_4cpus.neighbors.h5ad')]"
      ]
     },
     "execution_count": 5,
     "metadata": {},
     "output_type": "execute_result"
    }
   ],
   "source": [
    "scvi_adatas"
   ]
  },
  {
   "cell_type": "code",
   "execution_count": 7,
   "id": "a30a2765-5c10-46ed-a911-65058c1c1ab3",
   "metadata": {},
   "outputs": [],
   "source": [
    "def make_df():\n",
    "    for path in scvi_adatas:\n",
    "        filename = path.stem\n",
    "        dataset, rest, _ = filename.split(\".\")\n",
    "        _, node, cpus = rest.split(\"_\", maxsplit=3)\n",
    "        yield dataset, node, cpus, str(path)\n",
    "\n",
    "samplesheet = pd.DataFrame.from_records(make_df(), columns=[\"dataset\", \"node\", \"cpus\", \"adata_path\"])"
   ]
  },
  {
   "cell_type": "code",
   "execution_count": 8,
   "id": "04d40593-0606-4701-9de2-3c9650e553ab",
   "metadata": {},
   "outputs": [],
   "source": [
    "adatas = {\n",
    "    r.Index: sc.read_h5ad(r.adata_path) for r in samplesheet.itertuples()\n",
    "}"
   ]
  },
  {
   "cell_type": "code",
   "execution_count": 10,
   "id": "526baa3a-01a9-4d88-ac7d-609d0ac8fae9",
   "metadata": {},
   "outputs": [
    {
     "data": {
      "text/html": [
       "<div>\n",
       "<style scoped>\n",
       "    .dataframe tbody tr th:only-of-type {\n",
       "        vertical-align: middle;\n",
       "    }\n",
       "\n",
       "    .dataframe tbody tr th {\n",
       "        vertical-align: top;\n",
       "    }\n",
       "\n",
       "    .dataframe thead th {\n",
       "        text-align: right;\n",
       "    }\n",
       "</style>\n",
       "<table border=\"1\" class=\"dataframe\">\n",
       "  <thead>\n",
       "    <tr style=\"text-align: right;\">\n",
       "      <th></th>\n",
       "      <th>dataset</th>\n",
       "      <th>node</th>\n",
       "      <th>cpus</th>\n",
       "      <th>adata_path</th>\n",
       "    </tr>\n",
       "  </thead>\n",
       "  <tbody>\n",
       "    <tr>\n",
       "      <th>0</th>\n",
       "      <td>Guo_Zhang_2018_NSCLC</td>\n",
       "      <td>apollo-new</td>\n",
       "      <td>4cpus</td>\n",
       "      <td>../results/neighbors/Guo_Zhang_2018_NSCLC.qc_a...</td>\n",
       "    </tr>\n",
       "    <tr>\n",
       "      <th>15</th>\n",
       "      <td>Guo_Zhang_2018_NSCLC</td>\n",
       "      <td>apollo-new</td>\n",
       "      <td>8cpus</td>\n",
       "      <td>../results/neighbors/Guo_Zhang_2018_NSCLC.qc_a...</td>\n",
       "    </tr>\n",
       "    <tr>\n",
       "      <th>13</th>\n",
       "      <td>Guo_Zhang_2018_NSCLC</td>\n",
       "      <td>apollo-old</td>\n",
       "      <td>4cpus</td>\n",
       "      <td>../results/neighbors/Guo_Zhang_2018_NSCLC.qc_a...</td>\n",
       "    </tr>\n",
       "    <tr>\n",
       "      <th>9</th>\n",
       "      <td>Guo_Zhang_2018_NSCLC</td>\n",
       "      <td>apollo-old</td>\n",
       "      <td>8cpus</td>\n",
       "      <td>../results/neighbors/Guo_Zhang_2018_NSCLC.qc_a...</td>\n",
       "    </tr>\n",
       "    <tr>\n",
       "      <th>20</th>\n",
       "      <td>Guo_Zhang_2018_NSCLC</td>\n",
       "      <td>zeus</td>\n",
       "      <td>4cpus</td>\n",
       "      <td>../results/neighbors/Guo_Zhang_2018_NSCLC.qc_z...</td>\n",
       "    </tr>\n",
       "    <tr>\n",
       "      <th>12</th>\n",
       "      <td>Guo_Zhang_2018_NSCLC</td>\n",
       "      <td>zeus</td>\n",
       "      <td>8cpus</td>\n",
       "      <td>../results/neighbors/Guo_Zhang_2018_NSCLC.qc_z...</td>\n",
       "    </tr>\n",
       "    <tr>\n",
       "      <th>8</th>\n",
       "      <td>Lambrechts_2018_LUAD_6653</td>\n",
       "      <td>apollo-new</td>\n",
       "      <td>4cpus</td>\n",
       "      <td>../results/neighbors/Lambrechts_2018_LUAD_6653...</td>\n",
       "    </tr>\n",
       "    <tr>\n",
       "      <th>3</th>\n",
       "      <td>Lambrechts_2018_LUAD_6653</td>\n",
       "      <td>apollo-new</td>\n",
       "      <td>8cpus</td>\n",
       "      <td>../results/neighbors/Lambrechts_2018_LUAD_6653...</td>\n",
       "    </tr>\n",
       "    <tr>\n",
       "      <th>5</th>\n",
       "      <td>Lambrechts_2018_LUAD_6653</td>\n",
       "      <td>apollo-old</td>\n",
       "      <td>4cpus</td>\n",
       "      <td>../results/neighbors/Lambrechts_2018_LUAD_6653...</td>\n",
       "    </tr>\n",
       "    <tr>\n",
       "      <th>2</th>\n",
       "      <td>Lambrechts_2018_LUAD_6653</td>\n",
       "      <td>apollo-old</td>\n",
       "      <td>8cpus</td>\n",
       "      <td>../results/neighbors/Lambrechts_2018_LUAD_6653...</td>\n",
       "    </tr>\n",
       "    <tr>\n",
       "      <th>14</th>\n",
       "      <td>Lambrechts_2018_LUAD_6653</td>\n",
       "      <td>zeus</td>\n",
       "      <td>4cpus</td>\n",
       "      <td>../results/neighbors/Lambrechts_2018_LUAD_6653...</td>\n",
       "    </tr>\n",
       "    <tr>\n",
       "      <th>11</th>\n",
       "      <td>Lambrechts_2018_LUAD_6653</td>\n",
       "      <td>zeus</td>\n",
       "      <td>8cpus</td>\n",
       "      <td>../results/neighbors/Lambrechts_2018_LUAD_6653...</td>\n",
       "    </tr>\n",
       "    <tr>\n",
       "      <th>10</th>\n",
       "      <td>Maynard_Bivona_2020_NSCLC</td>\n",
       "      <td>apollo-new</td>\n",
       "      <td>4cpus</td>\n",
       "      <td>../results/neighbors/Maynard_Bivona_2020_NSCLC...</td>\n",
       "    </tr>\n",
       "    <tr>\n",
       "      <th>7</th>\n",
       "      <td>Maynard_Bivona_2020_NSCLC</td>\n",
       "      <td>apollo-new</td>\n",
       "      <td>8cpus</td>\n",
       "      <td>../results/neighbors/Maynard_Bivona_2020_NSCLC...</td>\n",
       "    </tr>\n",
       "    <tr>\n",
       "      <th>23</th>\n",
       "      <td>Maynard_Bivona_2020_NSCLC</td>\n",
       "      <td>apollo-old</td>\n",
       "      <td>4cpus</td>\n",
       "      <td>../results/neighbors/Maynard_Bivona_2020_NSCLC...</td>\n",
       "    </tr>\n",
       "    <tr>\n",
       "      <th>18</th>\n",
       "      <td>Maynard_Bivona_2020_NSCLC</td>\n",
       "      <td>apollo-old</td>\n",
       "      <td>8cpus</td>\n",
       "      <td>../results/neighbors/Maynard_Bivona_2020_NSCLC...</td>\n",
       "    </tr>\n",
       "    <tr>\n",
       "      <th>19</th>\n",
       "      <td>Maynard_Bivona_2020_NSCLC</td>\n",
       "      <td>zeus</td>\n",
       "      <td>4cpus</td>\n",
       "      <td>../results/neighbors/Maynard_Bivona_2020_NSCLC...</td>\n",
       "    </tr>\n",
       "    <tr>\n",
       "      <th>1</th>\n",
       "      <td>Maynard_Bivona_2020_NSCLC</td>\n",
       "      <td>zeus</td>\n",
       "      <td>8cpus</td>\n",
       "      <td>../results/neighbors/Maynard_Bivona_2020_NSCLC...</td>\n",
       "    </tr>\n",
       "    <tr>\n",
       "      <th>16</th>\n",
       "      <td>Zilionis_Klein_2019_NSCLC</td>\n",
       "      <td>apollo-new</td>\n",
       "      <td>4cpus</td>\n",
       "      <td>../results/neighbors/Zilionis_Klein_2019_NSCLC...</td>\n",
       "    </tr>\n",
       "    <tr>\n",
       "      <th>22</th>\n",
       "      <td>Zilionis_Klein_2019_NSCLC</td>\n",
       "      <td>apollo-new</td>\n",
       "      <td>8cpus</td>\n",
       "      <td>../results/neighbors/Zilionis_Klein_2019_NSCLC...</td>\n",
       "    </tr>\n",
       "    <tr>\n",
       "      <th>21</th>\n",
       "      <td>Zilionis_Klein_2019_NSCLC</td>\n",
       "      <td>apollo-old</td>\n",
       "      <td>4cpus</td>\n",
       "      <td>../results/neighbors/Zilionis_Klein_2019_NSCLC...</td>\n",
       "    </tr>\n",
       "    <tr>\n",
       "      <th>4</th>\n",
       "      <td>Zilionis_Klein_2019_NSCLC</td>\n",
       "      <td>apollo-old</td>\n",
       "      <td>8cpus</td>\n",
       "      <td>../results/neighbors/Zilionis_Klein_2019_NSCLC...</td>\n",
       "    </tr>\n",
       "    <tr>\n",
       "      <th>17</th>\n",
       "      <td>Zilionis_Klein_2019_NSCLC</td>\n",
       "      <td>zeus</td>\n",
       "      <td>4cpus</td>\n",
       "      <td>../results/neighbors/Zilionis_Klein_2019_NSCLC...</td>\n",
       "    </tr>\n",
       "    <tr>\n",
       "      <th>6</th>\n",
       "      <td>Zilionis_Klein_2019_NSCLC</td>\n",
       "      <td>zeus</td>\n",
       "      <td>8cpus</td>\n",
       "      <td>../results/neighbors/Zilionis_Klein_2019_NSCLC...</td>\n",
       "    </tr>\n",
       "  </tbody>\n",
       "</table>\n",
       "</div>"
      ],
      "text/plain": [
       "                      dataset        node   cpus  \\\n",
       "0        Guo_Zhang_2018_NSCLC  apollo-new  4cpus   \n",
       "15       Guo_Zhang_2018_NSCLC  apollo-new  8cpus   \n",
       "13       Guo_Zhang_2018_NSCLC  apollo-old  4cpus   \n",
       "9        Guo_Zhang_2018_NSCLC  apollo-old  8cpus   \n",
       "20       Guo_Zhang_2018_NSCLC        zeus  4cpus   \n",
       "12       Guo_Zhang_2018_NSCLC        zeus  8cpus   \n",
       "8   Lambrechts_2018_LUAD_6653  apollo-new  4cpus   \n",
       "3   Lambrechts_2018_LUAD_6653  apollo-new  8cpus   \n",
       "5   Lambrechts_2018_LUAD_6653  apollo-old  4cpus   \n",
       "2   Lambrechts_2018_LUAD_6653  apollo-old  8cpus   \n",
       "14  Lambrechts_2018_LUAD_6653        zeus  4cpus   \n",
       "11  Lambrechts_2018_LUAD_6653        zeus  8cpus   \n",
       "10  Maynard_Bivona_2020_NSCLC  apollo-new  4cpus   \n",
       "7   Maynard_Bivona_2020_NSCLC  apollo-new  8cpus   \n",
       "23  Maynard_Bivona_2020_NSCLC  apollo-old  4cpus   \n",
       "18  Maynard_Bivona_2020_NSCLC  apollo-old  8cpus   \n",
       "19  Maynard_Bivona_2020_NSCLC        zeus  4cpus   \n",
       "1   Maynard_Bivona_2020_NSCLC        zeus  8cpus   \n",
       "16  Zilionis_Klein_2019_NSCLC  apollo-new  4cpus   \n",
       "22  Zilionis_Klein_2019_NSCLC  apollo-new  8cpus   \n",
       "21  Zilionis_Klein_2019_NSCLC  apollo-old  4cpus   \n",
       "4   Zilionis_Klein_2019_NSCLC  apollo-old  8cpus   \n",
       "17  Zilionis_Klein_2019_NSCLC        zeus  4cpus   \n",
       "6   Zilionis_Klein_2019_NSCLC        zeus  8cpus   \n",
       "\n",
       "                                           adata_path  \n",
       "0   ../results/neighbors/Guo_Zhang_2018_NSCLC.qc_a...  \n",
       "15  ../results/neighbors/Guo_Zhang_2018_NSCLC.qc_a...  \n",
       "13  ../results/neighbors/Guo_Zhang_2018_NSCLC.qc_a...  \n",
       "9   ../results/neighbors/Guo_Zhang_2018_NSCLC.qc_a...  \n",
       "20  ../results/neighbors/Guo_Zhang_2018_NSCLC.qc_z...  \n",
       "12  ../results/neighbors/Guo_Zhang_2018_NSCLC.qc_z...  \n",
       "8   ../results/neighbors/Lambrechts_2018_LUAD_6653...  \n",
       "3   ../results/neighbors/Lambrechts_2018_LUAD_6653...  \n",
       "5   ../results/neighbors/Lambrechts_2018_LUAD_6653...  \n",
       "2   ../results/neighbors/Lambrechts_2018_LUAD_6653...  \n",
       "14  ../results/neighbors/Lambrechts_2018_LUAD_6653...  \n",
       "11  ../results/neighbors/Lambrechts_2018_LUAD_6653...  \n",
       "10  ../results/neighbors/Maynard_Bivona_2020_NSCLC...  \n",
       "7   ../results/neighbors/Maynard_Bivona_2020_NSCLC...  \n",
       "23  ../results/neighbors/Maynard_Bivona_2020_NSCLC...  \n",
       "18  ../results/neighbors/Maynard_Bivona_2020_NSCLC...  \n",
       "19  ../results/neighbors/Maynard_Bivona_2020_NSCLC...  \n",
       "1   ../results/neighbors/Maynard_Bivona_2020_NSCLC...  \n",
       "16  ../results/neighbors/Zilionis_Klein_2019_NSCLC...  \n",
       "22  ../results/neighbors/Zilionis_Klein_2019_NSCLC...  \n",
       "21  ../results/neighbors/Zilionis_Klein_2019_NSCLC...  \n",
       "4   ../results/neighbors/Zilionis_Klein_2019_NSCLC...  \n",
       "17  ../results/neighbors/Zilionis_Klein_2019_NSCLC...  \n",
       "6   ../results/neighbors/Zilionis_Klein_2019_NSCLC...  "
      ]
     },
     "execution_count": 10,
     "metadata": {},
     "output_type": "execute_result"
    }
   ],
   "source": [
    "samplesheet.sort_values([\"dataset\", \"node\", \"cpus\"])"
   ]
  },
  {
   "cell_type": "markdown",
   "id": "cb0e843f-1aeb-4109-a6ef-94a9cebd1d84",
   "metadata": {},
   "source": [
    "Things are reproducible on the same CPU generation..."
   ]
  },
  {
   "cell_type": "code",
   "execution_count": 15,
   "id": "452e34ad-f618-4874-903a-ae77021ab433",
   "metadata": {},
   "outputs": [],
   "source": [
    "npt.assert_almost_equal(adatas[15].obsp[\"connectivities\"].toarray(), adatas[12].obsp[\"connectivities\"].toarray())"
   ]
  },
  {
   "cell_type": "markdown",
   "id": "a58cc8c6-d510-4c4f-8f8a-cc3b965a6cbe",
   "metadata": {},
   "source": [
    "... on the same CPU, with different number of cores:"
   ]
  },
  {
   "cell_type": "code",
   "execution_count": 16,
   "id": "c2d67c1a-f109-4465-b1e6-a01713092b80",
   "metadata": {},
   "outputs": [],
   "source": [
    "npt.assert_almost_equal(adatas[0].obsp[\"connectivities\"].toarray(), adatas[15].obsp[\"connectivities\"].toarray())"
   ]
  },
  {
   "cell_type": "markdown",
   "id": "c93bfcc3-4ca1-4919-9c5e-43935f31bfa1",
   "metadata": {},
   "source": [
    "But not with the same number of cores on different CPU generations"
   ]
  },
  {
   "cell_type": "code",
   "execution_count": 18,
   "id": "75860ab5-661d-45a3-b174-a6302ef20adc",
   "metadata": {},
   "outputs": [
    {
     "ename": "AssertionError",
     "evalue": "\nArrays are not almost equal to 7 decimals\n\nMismatched elements: 32972 / 130530625 (0.0253%)\nMax absolute difference: 5.364418e-06\nMax relative difference: 0.00010679\n x: array([[0., 0., 0., ..., 0., 0., 0.],\n       [0., 0., 0., ..., 0., 0., 0.],\n       [0., 0., 0., ..., 0., 0., 0.],...\n y: array([[0., 0., 0., ..., 0., 0., 0.],\n       [0., 0., 0., ..., 0., 0., 0.],\n       [0., 0., 0., ..., 0., 0., 0.],...",
     "output_type": "error",
     "traceback": [
      "\u001b[0;31m---------------------------------------------------------------------------\u001b[0m",
      "\u001b[0;31mAssertionError\u001b[0m                            Traceback (most recent call last)",
      "\u001b[0;32m/tmp/ipykernel_39767/3717342463.py\u001b[0m in \u001b[0;36m<module>\u001b[0;34m\u001b[0m\n\u001b[0;32m----> 1\u001b[0;31m \u001b[0mnpt\u001b[0m\u001b[0;34m.\u001b[0m\u001b[0massert_almost_equal\u001b[0m\u001b[0;34m(\u001b[0m\u001b[0madatas\u001b[0m\u001b[0;34m[\u001b[0m\u001b[0;36m0\u001b[0m\u001b[0;34m]\u001b[0m\u001b[0;34m.\u001b[0m\u001b[0mobsp\u001b[0m\u001b[0;34m[\u001b[0m\u001b[0;34m\"connectivities\"\u001b[0m\u001b[0;34m]\u001b[0m\u001b[0;34m.\u001b[0m\u001b[0mtoarray\u001b[0m\u001b[0;34m(\u001b[0m\u001b[0;34m)\u001b[0m\u001b[0;34m,\u001b[0m \u001b[0madatas\u001b[0m\u001b[0;34m[\u001b[0m\u001b[0;36m13\u001b[0m\u001b[0;34m]\u001b[0m\u001b[0;34m.\u001b[0m\u001b[0mobsp\u001b[0m\u001b[0;34m[\u001b[0m\u001b[0;34m\"connectivities\"\u001b[0m\u001b[0;34m]\u001b[0m\u001b[0;34m.\u001b[0m\u001b[0mtoarray\u001b[0m\u001b[0;34m(\u001b[0m\u001b[0;34m)\u001b[0m\u001b[0;34m)\u001b[0m\u001b[0;34m\u001b[0m\u001b[0;34m\u001b[0m\u001b[0m\n\u001b[0m",
      "    \u001b[0;31m[... skipping hidden 2 frame]\u001b[0m\n",
      "\u001b[0;32m~/.conda/envs/pircher-sc-integrate2/lib/python3.8/site-packages/numpy/testing/_private/utils.py\u001b[0m in \u001b[0;36massert_array_compare\u001b[0;34m(comparison, x, y, err_msg, verbose, header, precision, equal_nan, equal_inf)\u001b[0m\n\u001b[1;32m    842\u001b[0m                                 \u001b[0mverbose\u001b[0m\u001b[0;34m=\u001b[0m\u001b[0mverbose\u001b[0m\u001b[0;34m,\u001b[0m \u001b[0mheader\u001b[0m\u001b[0;34m=\u001b[0m\u001b[0mheader\u001b[0m\u001b[0;34m,\u001b[0m\u001b[0;34m\u001b[0m\u001b[0;34m\u001b[0m\u001b[0m\n\u001b[1;32m    843\u001b[0m                                 names=('x', 'y'), precision=precision)\n\u001b[0;32m--> 844\u001b[0;31m             \u001b[0;32mraise\u001b[0m \u001b[0mAssertionError\u001b[0m\u001b[0;34m(\u001b[0m\u001b[0mmsg\u001b[0m\u001b[0;34m)\u001b[0m\u001b[0;34m\u001b[0m\u001b[0;34m\u001b[0m\u001b[0m\n\u001b[0m\u001b[1;32m    845\u001b[0m     \u001b[0;32mexcept\u001b[0m \u001b[0mValueError\u001b[0m\u001b[0;34m:\u001b[0m\u001b[0;34m\u001b[0m\u001b[0;34m\u001b[0m\u001b[0m\n\u001b[1;32m    846\u001b[0m         \u001b[0;32mimport\u001b[0m \u001b[0mtraceback\u001b[0m\u001b[0;34m\u001b[0m\u001b[0;34m\u001b[0m\u001b[0m\n",
      "\u001b[0;31mAssertionError\u001b[0m: \nArrays are not almost equal to 7 decimals\n\nMismatched elements: 32972 / 130530625 (0.0253%)\nMax absolute difference: 5.364418e-06\nMax relative difference: 0.00010679\n x: array([[0., 0., 0., ..., 0., 0., 0.],\n       [0., 0., 0., ..., 0., 0., 0.],\n       [0., 0., 0., ..., 0., 0., 0.],...\n y: array([[0., 0., 0., ..., 0., 0., 0.],\n       [0., 0., 0., ..., 0., 0., 0.],\n       [0., 0., 0., ..., 0., 0., 0.],..."
     ]
    }
   ],
   "source": [
    "npt.assert_almost_equal(adatas[0].obsp[\"connectivities\"].toarray(), adatas[13].obsp[\"connectivities\"].toarray())"
   ]
  },
  {
   "cell_type": "markdown",
   "id": "fb014201-4950-4475-a224-8ae186768f3c",
   "metadata": {},
   "source": [
    "But they are very similar:"
   ]
  },
  {
   "cell_type": "code",
   "execution_count": 22,
   "id": "c9e55235-fec2-4a12-9ed1-1ec1fa465d4f",
   "metadata": {},
   "outputs": [],
   "source": [
    "npt.assert_almost_equal(adatas[0].obsp[\"connectivities\"].toarray(), adatas[13].obsp[\"connectivities\"].toarray(), decimal=5)"
   ]
  },
  {
   "cell_type": "code",
   "execution_count": 23,
   "id": "79a966bf-441f-4491-bbef-35b1a2cceeaf",
   "metadata": {},
   "outputs": [],
   "source": [
    "npt.assert_almost_equal(adatas[22].obsp[\"connectivities\"].toarray(), adatas[4].obsp[\"connectivities\"].toarray(), decimal=5)"
   ]
  },
  {
   "cell_type": "code",
   "execution_count": 24,
   "id": "c2280efa-1154-44ea-8435-213c93315bab",
   "metadata": {},
   "outputs": [],
   "source": [
    "npt.assert_almost_equal(adatas[7].obsp[\"connectivities\"].toarray(), adatas[18].obsp[\"connectivities\"].toarray(), decimal=5)"
   ]
  },
  {
   "cell_type": "code",
   "execution_count": 25,
   "id": "32dcb7e9-2f83-4b4a-8bfb-6a13b39772bd",
   "metadata": {},
   "outputs": [],
   "source": [
    "npt.assert_almost_equal(adatas[3].obsp[\"connectivities\"].toarray(), adatas[2].obsp[\"connectivities\"].toarray(), decimal=5)"
   ]
  },
  {
   "cell_type": "code",
   "execution_count": null,
   "id": "45e6a394-245c-4a67-b25b-3a68908f0d34",
   "metadata": {},
   "outputs": [],
   "source": []
  }
 ],
 "metadata": {
  "jupytext": {
   "text_representation": {
    "extension": ".py",
    "format_name": "percent",
    "format_version": "1.3",
    "jupytext_version": "1.13.1"
   }
  },
  "kernelspec": {
   "display_name": "Python [conda env:.conda-pircher-sc-integrate2]",
   "language": "python",
   "name": "conda-env-.conda-pircher-sc-integrate2-py"
  },
  "language_info": {
   "codemirror_mode": {
    "name": "ipython",
    "version": 3
   },
   "file_extension": ".py",
   "mimetype": "text/x-python",
   "name": "python",
   "nbconvert_exporter": "python",
   "pygments_lexer": "ipython3",
   "version": "3.8.6"
  }
 },
 "nbformat": 4,
 "nbformat_minor": 5
}
