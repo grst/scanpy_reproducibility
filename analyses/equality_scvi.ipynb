{
 "cells": [
  {
   "cell_type": "code",
   "execution_count": 12,
   "id": "4c7b280a-564a-4fff-860d-7590aa3f7d4e",
   "metadata": {},
   "outputs": [],
   "source": [
    "import scanpy as sc\n",
    "import pandas as pd\n",
    "import numpy as np\n",
    "from pathlib import Path\n",
    "import numpy.testing as npt"
   ]
  },
  {
   "cell_type": "code",
   "execution_count": 2,
   "id": "4a35fd7b-c465-4ea9-856d-dd5460eb6545",
   "metadata": {},
   "outputs": [],
   "source": [
    "scvi_adatas = list(Path(\"../results/scvi/\").glob(\"*.h5ad\"))"
   ]
  },
  {
   "cell_type": "code",
   "execution_count": 3,
   "id": "a30a2765-5c10-46ed-a911-65058c1c1ab3",
   "metadata": {},
   "outputs": [],
   "source": [
    "def make_df():\n",
    "    for path in scvi_adatas:\n",
    "        filename = path.stem\n",
    "        dataset, rest = filename.split(\".\")\n",
    "        _, node, cpus, _ = rest.split(\"_\", maxsplit=3)\n",
    "        yield dataset, node, cpus, str(path)\n",
    "\n",
    "samplesheet = pd.DataFrame.from_records(make_df(), columns=[\"dataset\", \"node\", \"cpus\", \"adata_path\"])"
   ]
  },
  {
   "cell_type": "code",
   "execution_count": 10,
   "id": "04d40593-0606-4701-9de2-3c9650e553ab",
   "metadata": {},
   "outputs": [],
   "source": [
    "adatas = {\n",
    "    r.Index: sc.read_h5ad(r.adata_path) for r in samplesheet.itertuples()\n",
    "}"
   ]
  },
  {
   "cell_type": "code",
   "execution_count": 14,
   "id": "526baa3a-01a9-4d88-ac7d-609d0ac8fae9",
   "metadata": {},
   "outputs": [
    {
     "data": {
      "text/html": [
       "<div>\n",
       "<style scoped>\n",
       "    .dataframe tbody tr th:only-of-type {\n",
       "        vertical-align: middle;\n",
       "    }\n",
       "\n",
       "    .dataframe tbody tr th {\n",
       "        vertical-align: top;\n",
       "    }\n",
       "\n",
       "    .dataframe thead th {\n",
       "        text-align: right;\n",
       "    }\n",
       "</style>\n",
       "<table border=\"1\" class=\"dataframe\">\n",
       "  <thead>\n",
       "    <tr style=\"text-align: right;\">\n",
       "      <th></th>\n",
       "      <th>dataset</th>\n",
       "      <th>node</th>\n",
       "      <th>cpus</th>\n",
       "      <th>adata_path</th>\n",
       "    </tr>\n",
       "  </thead>\n",
       "  <tbody>\n",
       "    <tr>\n",
       "      <th>0</th>\n",
       "      <td>Guo_Zhang_2018_NSCLC</td>\n",
       "      <td>apollo-new</td>\n",
       "      <td>40cpus</td>\n",
       "      <td>../results/scvi/Guo_Zhang_2018_NSCLC.qc_apollo...</td>\n",
       "    </tr>\n",
       "    <tr>\n",
       "      <th>1</th>\n",
       "      <td>Lambrechts_2018_LUAD_6653</td>\n",
       "      <td>apollo-new</td>\n",
       "      <td>40cpus</td>\n",
       "      <td>../results/scvi/Lambrechts_2018_LUAD_6653.qc_a...</td>\n",
       "    </tr>\n",
       "    <tr>\n",
       "      <th>2</th>\n",
       "      <td>Guo_Zhang_2018_NSCLC</td>\n",
       "      <td>apollo-old</td>\n",
       "      <td>40cpus</td>\n",
       "      <td>../results/scvi/Guo_Zhang_2018_NSCLC.qc_apollo...</td>\n",
       "    </tr>\n",
       "    <tr>\n",
       "      <th>3</th>\n",
       "      <td>Guo_Zhang_2018_NSCLC</td>\n",
       "      <td>apollo-old</td>\n",
       "      <td>20cpus</td>\n",
       "      <td>../results/scvi/Guo_Zhang_2018_NSCLC.qc_apollo...</td>\n",
       "    </tr>\n",
       "    <tr>\n",
       "      <th>4</th>\n",
       "      <td>Guo_Zhang_2018_NSCLC</td>\n",
       "      <td>zeus</td>\n",
       "      <td>20cpus</td>\n",
       "      <td>../results/scvi/Guo_Zhang_2018_NSCLC.qc_zeus_2...</td>\n",
       "    </tr>\n",
       "    <tr>\n",
       "      <th>5</th>\n",
       "      <td>Maynard_Bivona_2020_NSCLC</td>\n",
       "      <td>apollo-new</td>\n",
       "      <td>40cpus</td>\n",
       "      <td>../results/scvi/Maynard_Bivona_2020_NSCLC.qc_a...</td>\n",
       "    </tr>\n",
       "    <tr>\n",
       "      <th>6</th>\n",
       "      <td>Lambrechts_2018_LUAD_6653</td>\n",
       "      <td>apollo-old</td>\n",
       "      <td>20cpus</td>\n",
       "      <td>../results/scvi/Lambrechts_2018_LUAD_6653.qc_a...</td>\n",
       "    </tr>\n",
       "    <tr>\n",
       "      <th>7</th>\n",
       "      <td>Lambrechts_2018_LUAD_6653</td>\n",
       "      <td>apollo-old</td>\n",
       "      <td>40cpus</td>\n",
       "      <td>../results/scvi/Lambrechts_2018_LUAD_6653.qc_a...</td>\n",
       "    </tr>\n",
       "    <tr>\n",
       "      <th>8</th>\n",
       "      <td>Maynard_Bivona_2020_NSCLC</td>\n",
       "      <td>apollo-old</td>\n",
       "      <td>40cpus</td>\n",
       "      <td>../results/scvi/Maynard_Bivona_2020_NSCLC.qc_a...</td>\n",
       "    </tr>\n",
       "    <tr>\n",
       "      <th>9</th>\n",
       "      <td>Guo_Zhang_2018_NSCLC</td>\n",
       "      <td>apollo-new</td>\n",
       "      <td>20cpus</td>\n",
       "      <td>../results/scvi/Guo_Zhang_2018_NSCLC.qc_apollo...</td>\n",
       "    </tr>\n",
       "    <tr>\n",
       "      <th>10</th>\n",
       "      <td>Zilionis_Klein_2019_NSCLC</td>\n",
       "      <td>zeus</td>\n",
       "      <td>20cpus</td>\n",
       "      <td>../results/scvi/Zilionis_Klein_2019_NSCLC.qc_z...</td>\n",
       "    </tr>\n",
       "    <tr>\n",
       "      <th>11</th>\n",
       "      <td>Zilionis_Klein_2019_NSCLC</td>\n",
       "      <td>apollo-old</td>\n",
       "      <td>20cpus</td>\n",
       "      <td>../results/scvi/Zilionis_Klein_2019_NSCLC.qc_a...</td>\n",
       "    </tr>\n",
       "    <tr>\n",
       "      <th>12</th>\n",
       "      <td>Lambrechts_2018_LUAD_6653</td>\n",
       "      <td>apollo-new</td>\n",
       "      <td>20cpus</td>\n",
       "      <td>../results/scvi/Lambrechts_2018_LUAD_6653.qc_a...</td>\n",
       "    </tr>\n",
       "    <tr>\n",
       "      <th>13</th>\n",
       "      <td>Lambrechts_2018_LUAD_6653</td>\n",
       "      <td>zeus</td>\n",
       "      <td>20cpus</td>\n",
       "      <td>../results/scvi/Lambrechts_2018_LUAD_6653.qc_z...</td>\n",
       "    </tr>\n",
       "    <tr>\n",
       "      <th>14</th>\n",
       "      <td>Zilionis_Klein_2019_NSCLC</td>\n",
       "      <td>apollo-new</td>\n",
       "      <td>20cpus</td>\n",
       "      <td>../results/scvi/Zilionis_Klein_2019_NSCLC.qc_a...</td>\n",
       "    </tr>\n",
       "    <tr>\n",
       "      <th>15</th>\n",
       "      <td>Maynard_Bivona_2020_NSCLC</td>\n",
       "      <td>apollo-old</td>\n",
       "      <td>20cpus</td>\n",
       "      <td>../results/scvi/Maynard_Bivona_2020_NSCLC.qc_a...</td>\n",
       "    </tr>\n",
       "    <tr>\n",
       "      <th>16</th>\n",
       "      <td>Zilionis_Klein_2019_NSCLC</td>\n",
       "      <td>apollo-new</td>\n",
       "      <td>40cpus</td>\n",
       "      <td>../results/scvi/Zilionis_Klein_2019_NSCLC.qc_a...</td>\n",
       "    </tr>\n",
       "    <tr>\n",
       "      <th>17</th>\n",
       "      <td>Maynard_Bivona_2020_NSCLC</td>\n",
       "      <td>apollo-new</td>\n",
       "      <td>20cpus</td>\n",
       "      <td>../results/scvi/Maynard_Bivona_2020_NSCLC.qc_a...</td>\n",
       "    </tr>\n",
       "    <tr>\n",
       "      <th>18</th>\n",
       "      <td>Maynard_Bivona_2020_NSCLC</td>\n",
       "      <td>zeus</td>\n",
       "      <td>20cpus</td>\n",
       "      <td>../results/scvi/Maynard_Bivona_2020_NSCLC.qc_z...</td>\n",
       "    </tr>\n",
       "  </tbody>\n",
       "</table>\n",
       "</div>"
      ],
      "text/plain": [
       "                      dataset        node    cpus  \\\n",
       "0        Guo_Zhang_2018_NSCLC  apollo-new  40cpus   \n",
       "1   Lambrechts_2018_LUAD_6653  apollo-new  40cpus   \n",
       "2        Guo_Zhang_2018_NSCLC  apollo-old  40cpus   \n",
       "3        Guo_Zhang_2018_NSCLC  apollo-old  20cpus   \n",
       "4        Guo_Zhang_2018_NSCLC        zeus  20cpus   \n",
       "5   Maynard_Bivona_2020_NSCLC  apollo-new  40cpus   \n",
       "6   Lambrechts_2018_LUAD_6653  apollo-old  20cpus   \n",
       "7   Lambrechts_2018_LUAD_6653  apollo-old  40cpus   \n",
       "8   Maynard_Bivona_2020_NSCLC  apollo-old  40cpus   \n",
       "9        Guo_Zhang_2018_NSCLC  apollo-new  20cpus   \n",
       "10  Zilionis_Klein_2019_NSCLC        zeus  20cpus   \n",
       "11  Zilionis_Klein_2019_NSCLC  apollo-old  20cpus   \n",
       "12  Lambrechts_2018_LUAD_6653  apollo-new  20cpus   \n",
       "13  Lambrechts_2018_LUAD_6653        zeus  20cpus   \n",
       "14  Zilionis_Klein_2019_NSCLC  apollo-new  20cpus   \n",
       "15  Maynard_Bivona_2020_NSCLC  apollo-old  20cpus   \n",
       "16  Zilionis_Klein_2019_NSCLC  apollo-new  40cpus   \n",
       "17  Maynard_Bivona_2020_NSCLC  apollo-new  20cpus   \n",
       "18  Maynard_Bivona_2020_NSCLC        zeus  20cpus   \n",
       "\n",
       "                                           adata_path  \n",
       "0   ../results/scvi/Guo_Zhang_2018_NSCLC.qc_apollo...  \n",
       "1   ../results/scvi/Lambrechts_2018_LUAD_6653.qc_a...  \n",
       "2   ../results/scvi/Guo_Zhang_2018_NSCLC.qc_apollo...  \n",
       "3   ../results/scvi/Guo_Zhang_2018_NSCLC.qc_apollo...  \n",
       "4   ../results/scvi/Guo_Zhang_2018_NSCLC.qc_zeus_2...  \n",
       "5   ../results/scvi/Maynard_Bivona_2020_NSCLC.qc_a...  \n",
       "6   ../results/scvi/Lambrechts_2018_LUAD_6653.qc_a...  \n",
       "7   ../results/scvi/Lambrechts_2018_LUAD_6653.qc_a...  \n",
       "8   ../results/scvi/Maynard_Bivona_2020_NSCLC.qc_a...  \n",
       "9   ../results/scvi/Guo_Zhang_2018_NSCLC.qc_apollo...  \n",
       "10  ../results/scvi/Zilionis_Klein_2019_NSCLC.qc_z...  \n",
       "11  ../results/scvi/Zilionis_Klein_2019_NSCLC.qc_a...  \n",
       "12  ../results/scvi/Lambrechts_2018_LUAD_6653.qc_a...  \n",
       "13  ../results/scvi/Lambrechts_2018_LUAD_6653.qc_z...  \n",
       "14  ../results/scvi/Zilionis_Klein_2019_NSCLC.qc_a...  \n",
       "15  ../results/scvi/Maynard_Bivona_2020_NSCLC.qc_a...  \n",
       "16  ../results/scvi/Zilionis_Klein_2019_NSCLC.qc_a...  \n",
       "17  ../results/scvi/Maynard_Bivona_2020_NSCLC.qc_a...  \n",
       "18  ../results/scvi/Maynard_Bivona_2020_NSCLC.qc_z...  "
      ]
     },
     "execution_count": 14,
     "metadata": {},
     "output_type": "execute_result"
    }
   ],
   "source": [
    "samplesheet"
   ]
  },
  {
   "cell_type": "markdown",
   "id": "cb0e843f-1aeb-4109-a6ef-94a9cebd1d84",
   "metadata": {},
   "source": [
    "Things are reproducible on the same CPU generation, with the same number of cores, but that's about it"
   ]
  },
  {
   "cell_type": "code",
   "execution_count": 18,
   "id": "452e34ad-f618-4874-903a-ae77021ab433",
   "metadata": {},
   "outputs": [],
   "source": [
    "npt.assert_almost_equal(adatas[9].obsm[\"X_scVI\"], adatas[4].obsm[\"X_scVI\"])"
   ]
  },
  {
   "cell_type": "markdown",
   "id": "a58cc8c6-d510-4c4f-8f8a-cc3b965a6cbe",
   "metadata": {},
   "source": [
    "Same CPU, different number of cores:"
   ]
  },
  {
   "cell_type": "code",
   "execution_count": 19,
   "id": "c2d67c1a-f109-4465-b1e6-a01713092b80",
   "metadata": {},
   "outputs": [
    {
     "ename": "AssertionError",
     "evalue": "\nArrays are not almost equal to 7 decimals\n\nMismatched elements: 114250 / 114250 (100%)\nMax absolute difference: 4.551491\nMax relative difference: 9721.013\n x: array([[-0.4055374, -1.243769 ,  0.5031881, ...,  0.1723216,  0.3767376,\n        -0.3098114],\n       [-2.1020555,  0.6172941,  0.4834996, ...,  2.0647378, -0.0233086,...\n y: array([[-0.5382577, -1.4259595,  0.5230535, ...,  0.2197821,  0.0816827,\n        -0.4511819],\n       [-2.0066655,  0.9846088,  0.2316375, ...,  2.0555646, -0.0033504,...",
     "output_type": "error",
     "traceback": [
      "\u001b[0;31m---------------------------------------------------------------------------\u001b[0m",
      "\u001b[0;31mAssertionError\u001b[0m                            Traceback (most recent call last)",
      "\u001b[0;32m/tmp/ipykernel_52241/674706062.py\u001b[0m in \u001b[0;36m<module>\u001b[0;34m\u001b[0m\n\u001b[0;32m----> 1\u001b[0;31m \u001b[0mnpt\u001b[0m\u001b[0;34m.\u001b[0m\u001b[0massert_almost_equal\u001b[0m\u001b[0;34m(\u001b[0m\u001b[0madatas\u001b[0m\u001b[0;34m[\u001b[0m\u001b[0;36m2\u001b[0m\u001b[0;34m]\u001b[0m\u001b[0;34m.\u001b[0m\u001b[0mobsm\u001b[0m\u001b[0;34m[\u001b[0m\u001b[0;34m\"X_scVI\"\u001b[0m\u001b[0;34m]\u001b[0m\u001b[0;34m,\u001b[0m \u001b[0madatas\u001b[0m\u001b[0;34m[\u001b[0m\u001b[0;36m3\u001b[0m\u001b[0;34m]\u001b[0m\u001b[0;34m.\u001b[0m\u001b[0mobsm\u001b[0m\u001b[0;34m[\u001b[0m\u001b[0;34m\"X_scVI\"\u001b[0m\u001b[0;34m]\u001b[0m\u001b[0;34m)\u001b[0m\u001b[0;34m\u001b[0m\u001b[0;34m\u001b[0m\u001b[0m\n\u001b[0m",
      "    \u001b[0;31m[... skipping hidden 2 frame]\u001b[0m\n",
      "\u001b[0;32m~/.conda/envs/pircher-sc-integrate2/lib/python3.8/site-packages/numpy/testing/_private/utils.py\u001b[0m in \u001b[0;36massert_array_compare\u001b[0;34m(comparison, x, y, err_msg, verbose, header, precision, equal_nan, equal_inf)\u001b[0m\n\u001b[1;32m    842\u001b[0m                                 \u001b[0mverbose\u001b[0m\u001b[0;34m=\u001b[0m\u001b[0mverbose\u001b[0m\u001b[0;34m,\u001b[0m \u001b[0mheader\u001b[0m\u001b[0;34m=\u001b[0m\u001b[0mheader\u001b[0m\u001b[0;34m,\u001b[0m\u001b[0;34m\u001b[0m\u001b[0;34m\u001b[0m\u001b[0m\n\u001b[1;32m    843\u001b[0m                                 names=('x', 'y'), precision=precision)\n\u001b[0;32m--> 844\u001b[0;31m             \u001b[0;32mraise\u001b[0m \u001b[0mAssertionError\u001b[0m\u001b[0;34m(\u001b[0m\u001b[0mmsg\u001b[0m\u001b[0;34m)\u001b[0m\u001b[0;34m\u001b[0m\u001b[0;34m\u001b[0m\u001b[0m\n\u001b[0m\u001b[1;32m    845\u001b[0m     \u001b[0;32mexcept\u001b[0m \u001b[0mValueError\u001b[0m\u001b[0;34m:\u001b[0m\u001b[0;34m\u001b[0m\u001b[0;34m\u001b[0m\u001b[0m\n\u001b[1;32m    846\u001b[0m         \u001b[0;32mimport\u001b[0m \u001b[0mtraceback\u001b[0m\u001b[0;34m\u001b[0m\u001b[0;34m\u001b[0m\u001b[0m\n",
      "\u001b[0;31mAssertionError\u001b[0m: \nArrays are not almost equal to 7 decimals\n\nMismatched elements: 114250 / 114250 (100%)\nMax absolute difference: 4.551491\nMax relative difference: 9721.013\n x: array([[-0.4055374, -1.243769 ,  0.5031881, ...,  0.1723216,  0.3767376,\n        -0.3098114],\n       [-2.1020555,  0.6172941,  0.4834996, ...,  2.0647378, -0.0233086,...\n y: array([[-0.5382577, -1.4259595,  0.5230535, ...,  0.2197821,  0.0816827,\n        -0.4511819],\n       [-2.0066655,  0.9846088,  0.2316375, ...,  2.0555646, -0.0033504,..."
     ]
    }
   ],
   "source": [
    "npt.assert_almost_equal(adatas[2].obsm[\"X_scVI\"], adatas[3].obsm[\"X_scVI\"])"
   ]
  },
  {
   "cell_type": "markdown",
   "id": "c93bfcc3-4ca1-4919-9c5e-43935f31bfa1",
   "metadata": {},
   "source": [
    "Same number of cores, different CPUs"
   ]
  },
  {
   "cell_type": "code",
   "execution_count": 20,
   "id": "75860ab5-661d-45a3-b174-a6302ef20adc",
   "metadata": {},
   "outputs": [
    {
     "ename": "AssertionError",
     "evalue": "\nArrays are not almost equal to 7 decimals\n\nMismatched elements: 114250 / 114250 (100%)\nMax absolute difference: 3.8100638\nMax relative difference: 22365.818\n x: array([[-0.5382577, -1.4259595,  0.5230535, ...,  0.2197821,  0.0816827,\n        -0.4511819],\n       [-2.0066655,  0.9846088,  0.2316375, ...,  2.0555646, -0.0033504,...\n y: array([[-0.4074667, -1.3004682,  0.4541413, ...,  0.2611647,  0.1430842,\n        -0.1908449],\n       [-2.001299 ,  0.4988387,  0.4894946, ...,  2.142696 ,  0.3412218,...",
     "output_type": "error",
     "traceback": [
      "\u001b[0;31m---------------------------------------------------------------------------\u001b[0m",
      "\u001b[0;31mAssertionError\u001b[0m                            Traceback (most recent call last)",
      "\u001b[0;32m/tmp/ipykernel_52241/86816041.py\u001b[0m in \u001b[0;36m<module>\u001b[0;34m\u001b[0m\n\u001b[0;32m----> 1\u001b[0;31m \u001b[0mnpt\u001b[0m\u001b[0;34m.\u001b[0m\u001b[0massert_almost_equal\u001b[0m\u001b[0;34m(\u001b[0m\u001b[0madatas\u001b[0m\u001b[0;34m[\u001b[0m\u001b[0;36m3\u001b[0m\u001b[0;34m]\u001b[0m\u001b[0;34m.\u001b[0m\u001b[0mobsm\u001b[0m\u001b[0;34m[\u001b[0m\u001b[0;34m\"X_scVI\"\u001b[0m\u001b[0;34m]\u001b[0m\u001b[0;34m,\u001b[0m \u001b[0madatas\u001b[0m\u001b[0;34m[\u001b[0m\u001b[0;36m4\u001b[0m\u001b[0;34m]\u001b[0m\u001b[0;34m.\u001b[0m\u001b[0mobsm\u001b[0m\u001b[0;34m[\u001b[0m\u001b[0;34m\"X_scVI\"\u001b[0m\u001b[0;34m]\u001b[0m\u001b[0;34m)\u001b[0m\u001b[0;34m\u001b[0m\u001b[0;34m\u001b[0m\u001b[0m\n\u001b[0m",
      "    \u001b[0;31m[... skipping hidden 2 frame]\u001b[0m\n",
      "\u001b[0;32m~/.conda/envs/pircher-sc-integrate2/lib/python3.8/site-packages/numpy/testing/_private/utils.py\u001b[0m in \u001b[0;36massert_array_compare\u001b[0;34m(comparison, x, y, err_msg, verbose, header, precision, equal_nan, equal_inf)\u001b[0m\n\u001b[1;32m    842\u001b[0m                                 \u001b[0mverbose\u001b[0m\u001b[0;34m=\u001b[0m\u001b[0mverbose\u001b[0m\u001b[0;34m,\u001b[0m \u001b[0mheader\u001b[0m\u001b[0;34m=\u001b[0m\u001b[0mheader\u001b[0m\u001b[0;34m,\u001b[0m\u001b[0;34m\u001b[0m\u001b[0;34m\u001b[0m\u001b[0m\n\u001b[1;32m    843\u001b[0m                                 names=('x', 'y'), precision=precision)\n\u001b[0;32m--> 844\u001b[0;31m             \u001b[0;32mraise\u001b[0m \u001b[0mAssertionError\u001b[0m\u001b[0;34m(\u001b[0m\u001b[0mmsg\u001b[0m\u001b[0;34m)\u001b[0m\u001b[0;34m\u001b[0m\u001b[0;34m\u001b[0m\u001b[0m\n\u001b[0m\u001b[1;32m    845\u001b[0m     \u001b[0;32mexcept\u001b[0m \u001b[0mValueError\u001b[0m\u001b[0;34m:\u001b[0m\u001b[0;34m\u001b[0m\u001b[0;34m\u001b[0m\u001b[0m\n\u001b[1;32m    846\u001b[0m         \u001b[0;32mimport\u001b[0m \u001b[0mtraceback\u001b[0m\u001b[0;34m\u001b[0m\u001b[0;34m\u001b[0m\u001b[0m\n",
      "\u001b[0;31mAssertionError\u001b[0m: \nArrays are not almost equal to 7 decimals\n\nMismatched elements: 114250 / 114250 (100%)\nMax absolute difference: 3.8100638\nMax relative difference: 22365.818\n x: array([[-0.5382577, -1.4259595,  0.5230535, ...,  0.2197821,  0.0816827,\n        -0.4511819],\n       [-2.0066655,  0.9846088,  0.2316375, ...,  2.0555646, -0.0033504,...\n y: array([[-0.4074667, -1.3004682,  0.4541413, ...,  0.2611647,  0.1430842,\n        -0.1908449],\n       [-2.001299 ,  0.4988387,  0.4894946, ...,  2.142696 ,  0.3412218,..."
     ]
    }
   ],
   "source": [
    "npt.assert_almost_equal(adatas[3].obsm[\"X_scVI\"], adatas[4].obsm[\"X_scVI\"])"
   ]
  },
  {
   "cell_type": "markdown",
   "id": "fb014201-4950-4475-a224-8ae186768f3c",
   "metadata": {},
   "source": [
    "And while the values are correlated, they"
   ]
  }
 ],
 "metadata": {
  "jupytext": {
   "text_representation": {
    "extension": ".py",
    "format_name": "percent",
    "format_version": "1.3",
    "jupytext_version": "1.13.1"
   }
  },
  "kernelspec": {
   "display_name": "Python [conda env:.conda-pircher-sc-integrate2]",
   "language": "python",
   "name": "conda-env-.conda-pircher-sc-integrate2-py"
  },
  "language_info": {
   "codemirror_mode": {
    "name": "ipython",
    "version": 3
   },
   "file_extension": ".py",
   "mimetype": "text/x-python",
   "name": "python",
   "nbconvert_exporter": "python",
   "pygments_lexer": "ipython3",
   "version": "3.8.6"
  }
 },
 "nbformat": 4,
 "nbformat_minor": 5
}
